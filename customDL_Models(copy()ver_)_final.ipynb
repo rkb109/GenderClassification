{
  "nbformat": 4,
  "nbformat_minor": 0,
  "metadata": {
    "colab": {
      "provenance": []
    },
    "kernelspec": {
      "name": "python3",
      "display_name": "Python 3"
    },
    "language_info": {
      "name": "python"
    }
  },
  "cells": [
    {
      "cell_type": "code",
      "execution_count": null,
      "metadata": {
        "id": "bjqBgr89qNji"
      },
      "outputs": [],
      "source": [
        "import tensorflow as tf\n",
        "import pandas as pd\n",
        "from sklearn.model_selection import train_test_split\n",
        "from tensorflow.keras.callbacks import EarlyStopping\n",
        "from tensorflow.keras.models import Sequential\n",
        "from tensorflow.keras.layers import Dense, Dropout, Conv1D, MaxPooling1D, Flatten, LSTM\n",
        "import time\n",
        "\n",
        "# 데이터셋 로드\n",
        "data = pd.read_csv(\"voice.csv\")\n",
        "\n",
        "# 데이터 인코딩 (문자열로 된 레이블을 숫자로 변환: 모델이 이해할 수 있도록)\n",
        "label_map = {'male': 0, 'female': 1}\n",
        "data['label'] = data['label'].replace(label_map)\n",
        "\n",
        "# X, y 분리\n",
        "X = data.drop('label', axis=1).copy()\n",
        "y = data['label'].copy()\n",
        "\n",
        "# 데이터 정규화 (data preprocessing: zero-center + normalize)\n",
        "X = (X - X.mean()) / X.std()"
      ]
    },
    {
      "cell_type": "code",
      "source": [
        "# 데이터를 train data, test data 로 분할\n",
        "X_train, X_test, y_train, y_test = train_test_split(X, y, test_size=0.2)#, random_state=42) # 호출할 때마다 동일한 train, test dataset를 생성하기 위한 난수 값"
      ],
      "metadata": {
        "id": "DiCpIbfOrswO"
      },
      "execution_count": null,
      "outputs": []
    },
    {
      "cell_type": "markdown",
      "source": [
        "## CNN"
      ],
      "metadata": {
        "id": "gLUfEkcD2V-j"
      }
    },
    {
      "cell_type": "code",
      "source": [
        "# CNN 모델 정의\n",
        "cnn_model = tf.keras.Sequential([\n",
        "    tf.keras.layers.Reshape((20, 1), input_shape=(20,)), # 입력 데이터의 형태 변경. 1차원 -> 2차원 (Conv1D 레이어 입력 형태)\n",
        "    tf.keras.layers.Conv1D(512, 5, activation=tf.keras.layers.LeakyReLU(alpha=0.2)), # filters=32, kernel_size=3 / 일반적으로 Conv1D 레이어에서 필터의 개수를 2의 거듭제곱수로 지정하는 것이 좋음\n",
        "    tf.keras.layers.MaxPooling1D(2), # pool_size=2\n",
        "    # tf.keras.layers.Conv1D(256, kernel_size=3, activation=tf.keras.layers.LeakyReLU(alpha=0.2)),\n",
        "    # tf.keras.layers.MaxPooling1D(2),\n",
        "    tf.keras.layers.Flatten(),\n",
        "    tf.keras.layers.Dense(64, activation=tf.keras.layers.LeakyReLU(alpha=0.2)),\n",
        "    tf.keras.layers.Dropout(0.2),\n",
        "    tf.keras.layers.Dense(1, activation='sigmoid')\n",
        "])\n",
        "\n",
        "# learning rate 조절\n",
        "optimizer = tf.keras.optimizers.Adam(learning_rate=0.001) # 기본 learning rate: 0.001\n",
        "\n",
        "# 모델 컴파일\n",
        "cnn_model.compile(optimizer=optimizer,\n",
        "              loss='binary_crossentropy',\n",
        "              metrics=['accuracy'])\n"
      ],
      "metadata": {
        "id": "8gjGy3QZqine"
      },
      "execution_count": null,
      "outputs": []
    },
    {
      "cell_type": "code",
      "source": [
        "# 모델의 구조 요약 및 출력\n",
        "cnn_model.summary()"
      ],
      "metadata": {
        "id": "_RRCJDQ8sILT",
        "colab": {
          "base_uri": "https://localhost:8080/"
        },
        "outputId": "ae0508bb-c527-4eb9-c027-ce59df64ef57"
      },
      "execution_count": null,
      "outputs": [
        {
          "output_type": "stream",
          "name": "stdout",
          "text": [
            "Model: \"sequential_15\"\n",
            "_________________________________________________________________\n",
            " Layer (type)                Output Shape              Param #   \n",
            "=================================================================\n",
            " reshape_10 (Reshape)        (None, 20, 1)             0         \n",
            "                                                                 \n",
            " conv1d_5 (Conv1D)           (None, 16, 512)           3072      \n",
            "                                                                 \n",
            " max_pooling1d_5 (MaxPoolin  (None, 8, 512)            0         \n",
            " g1D)                                                            \n",
            "                                                                 \n",
            " flatten_5 (Flatten)         (None, 4096)              0         \n",
            "                                                                 \n",
            " dense_50 (Dense)            (None, 64)                262208    \n",
            "                                                                 \n",
            " dropout_15 (Dropout)        (None, 64)                0         \n",
            "                                                                 \n",
            " dense_51 (Dense)            (None, 1)                 65        \n",
            "                                                                 \n",
            "=================================================================\n",
            "Total params: 265345 (1.01 MB)\n",
            "Trainable params: 265345 (1.01 MB)\n",
            "Non-trainable params: 0 (0.00 Byte)\n",
            "_________________________________________________________________\n"
          ]
        }
      ]
    },
    {
      "cell_type": "code",
      "source": [
        "# 콜백 함수 정의 및 모델 학습\n",
        "early_stopping = EarlyStopping(monitor='val_loss', patience=10, restore_best_weights=True)\n",
        "\n",
        "start_time = time.time()\n",
        "\n",
        "cnn_model.fit(X_train, y_train, epochs=200, validation_data=(X_test, y_test), batch_size=64, shuffle=True, callbacks=[early_stopping])\n",
        "\n",
        "end_time = time.time()\n",
        "training_time = end_time - start_time\n",
        "print(\"CNN 모델의 총 학습 시간:\", training_time, \"초\")"
      ],
      "metadata": {
        "id": "e5Te-BYksFnl",
        "colab": {
          "base_uri": "https://localhost:8080/"
        },
        "outputId": "f7200d5d-59ef-4ca8-fe5a-51e358404db3"
      },
      "execution_count": null,
      "outputs": [
        {
          "output_type": "stream",
          "name": "stdout",
          "text": [
            "Epoch 1/200\n",
            "40/40 [==============================] - 2s 20ms/step - loss: 0.2507 - accuracy: 0.8927 - val_loss: 0.1174 - val_accuracy: 0.9669\n",
            "Epoch 2/200\n",
            "40/40 [==============================] - 1s 14ms/step - loss: 0.0999 - accuracy: 0.9641 - val_loss: 0.0655 - val_accuracy: 0.9842\n",
            "Epoch 3/200\n",
            "40/40 [==============================] - 1s 14ms/step - loss: 0.0787 - accuracy: 0.9743 - val_loss: 0.0596 - val_accuracy: 0.9842\n",
            "Epoch 4/200\n",
            "40/40 [==============================] - 1s 15ms/step - loss: 0.0725 - accuracy: 0.9751 - val_loss: 0.0582 - val_accuracy: 0.9795\n",
            "Epoch 5/200\n",
            "40/40 [==============================] - 1s 13ms/step - loss: 0.0683 - accuracy: 0.9767 - val_loss: 0.0631 - val_accuracy: 0.9763\n",
            "Epoch 6/200\n",
            "40/40 [==============================] - 1s 15ms/step - loss: 0.0620 - accuracy: 0.9767 - val_loss: 0.0724 - val_accuracy: 0.9763\n",
            "Epoch 7/200\n",
            "40/40 [==============================] - 1s 14ms/step - loss: 0.0590 - accuracy: 0.9783 - val_loss: 0.0648 - val_accuracy: 0.9779\n",
            "Epoch 8/200\n",
            "40/40 [==============================] - 1s 14ms/step - loss: 0.0533 - accuracy: 0.9799 - val_loss: 0.0650 - val_accuracy: 0.9795\n",
            "Epoch 9/200\n",
            "40/40 [==============================] - 1s 14ms/step - loss: 0.0574 - accuracy: 0.9791 - val_loss: 0.0596 - val_accuracy: 0.9811\n",
            "Epoch 10/200\n",
            "40/40 [==============================] - 1s 15ms/step - loss: 0.0577 - accuracy: 0.9771 - val_loss: 0.0518 - val_accuracy: 0.9811\n",
            "Epoch 11/200\n",
            "40/40 [==============================] - 1s 14ms/step - loss: 0.0498 - accuracy: 0.9834 - val_loss: 0.0578 - val_accuracy: 0.9842\n",
            "Epoch 12/200\n",
            "40/40 [==============================] - 1s 18ms/step - loss: 0.0500 - accuracy: 0.9830 - val_loss: 0.0577 - val_accuracy: 0.9748\n",
            "Epoch 13/200\n",
            "40/40 [==============================] - 1s 21ms/step - loss: 0.0432 - accuracy: 0.9842 - val_loss: 0.0550 - val_accuracy: 0.9826\n",
            "Epoch 14/200\n",
            "40/40 [==============================] - 1s 21ms/step - loss: 0.0458 - accuracy: 0.9834 - val_loss: 0.0522 - val_accuracy: 0.9826\n",
            "Epoch 15/200\n",
            "40/40 [==============================] - 1s 22ms/step - loss: 0.0571 - accuracy: 0.9799 - val_loss: 0.0613 - val_accuracy: 0.9795\n",
            "Epoch 16/200\n",
            "40/40 [==============================] - 1s 19ms/step - loss: 0.0417 - accuracy: 0.9830 - val_loss: 0.0507 - val_accuracy: 0.9811\n",
            "Epoch 17/200\n",
            "40/40 [==============================] - 1s 15ms/step - loss: 0.0391 - accuracy: 0.9862 - val_loss: 0.0576 - val_accuracy: 0.9811\n",
            "Epoch 18/200\n",
            "40/40 [==============================] - 1s 14ms/step - loss: 0.0359 - accuracy: 0.9858 - val_loss: 0.0564 - val_accuracy: 0.9811\n",
            "Epoch 19/200\n",
            "40/40 [==============================] - 1s 13ms/step - loss: 0.0397 - accuracy: 0.9834 - val_loss: 0.0491 - val_accuracy: 0.9748\n",
            "Epoch 20/200\n",
            "40/40 [==============================] - 1s 14ms/step - loss: 0.0344 - accuracy: 0.9870 - val_loss: 0.0501 - val_accuracy: 0.9858\n",
            "Epoch 21/200\n",
            "40/40 [==============================] - 1s 14ms/step - loss: 0.0368 - accuracy: 0.9858 - val_loss: 0.0620 - val_accuracy: 0.9795\n",
            "Epoch 22/200\n",
            "40/40 [==============================] - 1s 14ms/step - loss: 0.0376 - accuracy: 0.9850 - val_loss: 0.0528 - val_accuracy: 0.9779\n",
            "Epoch 23/200\n",
            "40/40 [==============================] - 1s 18ms/step - loss: 0.0364 - accuracy: 0.9854 - val_loss: 0.0604 - val_accuracy: 0.9732\n",
            "Epoch 24/200\n",
            "40/40 [==============================] - 1s 19ms/step - loss: 0.0326 - accuracy: 0.9874 - val_loss: 0.0666 - val_accuracy: 0.9763\n",
            "Epoch 25/200\n",
            "40/40 [==============================] - 1s 15ms/step - loss: 0.0300 - accuracy: 0.9886 - val_loss: 0.0570 - val_accuracy: 0.9779\n",
            "Epoch 26/200\n",
            "40/40 [==============================] - 1s 16ms/step - loss: 0.0336 - accuracy: 0.9862 - val_loss: 0.0523 - val_accuracy: 0.9779\n",
            "Epoch 27/200\n",
            "40/40 [==============================] - 1s 14ms/step - loss: 0.0422 - accuracy: 0.9858 - val_loss: 0.0535 - val_accuracy: 0.9795\n",
            "Epoch 28/200\n",
            "40/40 [==============================] - 1s 14ms/step - loss: 0.0402 - accuracy: 0.9838 - val_loss: 0.0571 - val_accuracy: 0.9811\n",
            "Epoch 29/200\n",
            "40/40 [==============================] - 1s 14ms/step - loss: 0.0296 - accuracy: 0.9897 - val_loss: 0.0547 - val_accuracy: 0.9826\n",
            "CNN 모델의 총 학습 시간: 19.455232620239258 초\n"
          ]
        }
      ]
    },
    {
      "cell_type": "code",
      "source": [
        "# 모델 평가\n",
        "print(\"CNN model: \")\n",
        "cnn_model.evaluate(X_test,  y_test, verbose=2)"
      ],
      "metadata": {
        "id": "fyYMX3mHrb32",
        "colab": {
          "base_uri": "https://localhost:8080/"
        },
        "outputId": "33ce437c-1502-4339-bdc2-c5c59a3cacb5"
      },
      "execution_count": null,
      "outputs": [
        {
          "output_type": "stream",
          "name": "stdout",
          "text": [
            "CNN model: \n",
            "20/20 - 0s - loss: 0.0491 - accuracy: 0.9748 - 67ms/epoch - 3ms/step\n"
          ]
        },
        {
          "output_type": "execute_result",
          "data": {
            "text/plain": [
              "[0.04910450428724289, 0.9747633934020996]"
            ]
          },
          "metadata": {},
          "execution_count": 78
        }
      ]
    },
    {
      "cell_type": "markdown",
      "source": [
        "## RNN"
      ],
      "metadata": {
        "id": "qtEnCobf2S8G"
      }
    },
    {
      "cell_type": "code",
      "source": [
        "# RNN 모델 정의\n",
        "rnn_model = tf.keras.Sequential([\n",
        "    tf.keras.layers.Reshape((20, 1), input_shape=(20,)),\n",
        "    tf.keras.layers.LSTM(64),\n",
        "    tf.keras.layers.Dense(64, activation='relu'),\n",
        "    tf.keras.layers.Dense(1, activation='sigmoid')\n",
        "])\n",
        "\n",
        "# 모델 컴파일\n",
        "rnn_model.compile(optimizer='adam', # 기본 learning rate: 0.001\n",
        "              loss='binary_crossentropy',\n",
        "              metrics=['accuracy'])"
      ],
      "metadata": {
        "id": "P7oato9SEqYR"
      },
      "execution_count": null,
      "outputs": []
    },
    {
      "cell_type": "code",
      "source": [
        "# 모델의 구조 요약 및 출력\n",
        "rnn_model.summary()"
      ],
      "metadata": {
        "id": "xvMO-5PqErWl",
        "colab": {
          "base_uri": "https://localhost:8080/"
        },
        "outputId": "50b75ce5-cdf8-4481-a5e2-221e39eaedbc"
      },
      "execution_count": null,
      "outputs": [
        {
          "output_type": "stream",
          "name": "stdout",
          "text": [
            "Model: \"sequential_16\"\n",
            "_________________________________________________________________\n",
            " Layer (type)                Output Shape              Param #   \n",
            "=================================================================\n",
            " reshape_11 (Reshape)        (None, 20, 1)             0         \n",
            "                                                                 \n",
            " lstm_5 (LSTM)               (None, 64)                16896     \n",
            "                                                                 \n",
            " dense_52 (Dense)            (None, 64)                4160      \n",
            "                                                                 \n",
            " dense_53 (Dense)            (None, 1)                 65        \n",
            "                                                                 \n",
            "=================================================================\n",
            "Total params: 21121 (82.50 KB)\n",
            "Trainable params: 21121 (82.50 KB)\n",
            "Non-trainable params: 0 (0.00 Byte)\n",
            "_________________________________________________________________\n"
          ]
        }
      ]
    },
    {
      "cell_type": "code",
      "source": [
        "# 콜백 함수 정의 및 모델 학습\n",
        "early_stopping = EarlyStopping(monitor='val_loss', patience=10, restore_best_weights=True)\n",
        "\n",
        "start_time = time.time()\n",
        "\n",
        "rnn_model.fit(X_train, y_train, epochs=100, validation_data=(X_test, y_test), shuffle=True, callbacks=[early_stopping])\n",
        "\n",
        "end_time = time.time()\n",
        "training_time = end_time - start_time\n",
        "print(\"RNN 모델의 총 학습 시간:\", training_time, \"초\")"
      ],
      "metadata": {
        "colab": {
          "base_uri": "https://localhost:8080/"
        },
        "id": "Ap8GcBu9EsC8",
        "outputId": "250a811b-49cf-4064-fc21-eca344ecdd15"
      },
      "execution_count": null,
      "outputs": [
        {
          "output_type": "stream",
          "name": "stdout",
          "text": [
            "Epoch 1/100\n",
            "80/80 [==============================] - 5s 24ms/step - loss: 0.5775 - accuracy: 0.6882 - val_loss: 0.4191 - val_accuracy: 0.8233\n",
            "Epoch 2/100\n",
            "80/80 [==============================] - 1s 11ms/step - loss: 0.4061 - accuracy: 0.8149 - val_loss: 0.3299 - val_accuracy: 0.8533\n",
            "Epoch 3/100\n",
            "80/80 [==============================] - 1s 11ms/step - loss: 0.3523 - accuracy: 0.8358 - val_loss: 0.2868 - val_accuracy: 0.8612\n",
            "Epoch 4/100\n",
            "80/80 [==============================] - 1s 11ms/step - loss: 0.3153 - accuracy: 0.8548 - val_loss: 0.2729 - val_accuracy: 0.8991\n",
            "Epoch 5/100\n",
            "80/80 [==============================] - 1s 11ms/step - loss: 0.2949 - accuracy: 0.8721 - val_loss: 0.2514 - val_accuracy: 0.9006\n",
            "Epoch 6/100\n",
            "80/80 [==============================] - 1s 11ms/step - loss: 0.2666 - accuracy: 0.8895 - val_loss: 0.2439 - val_accuracy: 0.8991\n",
            "Epoch 7/100\n",
            "80/80 [==============================] - 1s 11ms/step - loss: 0.2602 - accuracy: 0.8911 - val_loss: 0.2176 - val_accuracy: 0.9180\n",
            "Epoch 8/100\n",
            "80/80 [==============================] - 1s 11ms/step - loss: 0.2339 - accuracy: 0.9021 - val_loss: 0.2041 - val_accuracy: 0.9227\n",
            "Epoch 9/100\n",
            "80/80 [==============================] - 1s 11ms/step - loss: 0.2177 - accuracy: 0.9116 - val_loss: 0.2544 - val_accuracy: 0.8943\n",
            "Epoch 10/100\n",
            "80/80 [==============================] - 1s 12ms/step - loss: 0.2191 - accuracy: 0.9116 - val_loss: 0.1858 - val_accuracy: 0.9164\n",
            "Epoch 11/100\n",
            "80/80 [==============================] - 1s 11ms/step - loss: 0.2148 - accuracy: 0.9148 - val_loss: 0.2261 - val_accuracy: 0.9132\n",
            "Epoch 12/100\n",
            "80/80 [==============================] - 1s 16ms/step - loss: 0.2265 - accuracy: 0.9069 - val_loss: 0.1734 - val_accuracy: 0.9306\n",
            "Epoch 13/100\n",
            "80/80 [==============================] - 1s 18ms/step - loss: 0.2042 - accuracy: 0.9152 - val_loss: 0.1656 - val_accuracy: 0.9338\n",
            "Epoch 14/100\n",
            "80/80 [==============================] - 1s 16ms/step - loss: 0.1987 - accuracy: 0.9207 - val_loss: 0.1702 - val_accuracy: 0.9290\n",
            "Epoch 15/100\n",
            "80/80 [==============================] - 1s 11ms/step - loss: 0.1839 - accuracy: 0.9294 - val_loss: 0.1793 - val_accuracy: 0.9227\n",
            "Epoch 16/100\n",
            "80/80 [==============================] - 1s 11ms/step - loss: 0.1821 - accuracy: 0.9294 - val_loss: 0.1802 - val_accuracy: 0.9227\n",
            "Epoch 17/100\n",
            "80/80 [==============================] - 1s 11ms/step - loss: 0.1695 - accuracy: 0.9317 - val_loss: 0.1444 - val_accuracy: 0.9432\n",
            "Epoch 18/100\n",
            "80/80 [==============================] - 1s 12ms/step - loss: 0.1710 - accuracy: 0.9357 - val_loss: 0.1693 - val_accuracy: 0.9322\n",
            "Epoch 19/100\n",
            "80/80 [==============================] - 1s 11ms/step - loss: 0.1764 - accuracy: 0.9313 - val_loss: 0.1499 - val_accuracy: 0.9495\n",
            "Epoch 20/100\n",
            "80/80 [==============================] - 1s 11ms/step - loss: 0.1666 - accuracy: 0.9357 - val_loss: 0.1544 - val_accuracy: 0.9385\n",
            "Epoch 21/100\n",
            "80/80 [==============================] - 1s 11ms/step - loss: 0.1521 - accuracy: 0.9392 - val_loss: 0.1494 - val_accuracy: 0.9338\n",
            "Epoch 22/100\n",
            "80/80 [==============================] - 1s 11ms/step - loss: 0.1570 - accuracy: 0.9440 - val_loss: 0.1417 - val_accuracy: 0.9401\n",
            "Epoch 23/100\n",
            "80/80 [==============================] - 1s 11ms/step - loss: 0.1505 - accuracy: 0.9432 - val_loss: 0.1338 - val_accuracy: 0.9464\n",
            "Epoch 24/100\n",
            "80/80 [==============================] - 1s 11ms/step - loss: 0.1527 - accuracy: 0.9420 - val_loss: 0.1413 - val_accuracy: 0.9385\n",
            "Epoch 25/100\n",
            "80/80 [==============================] - 1s 12ms/step - loss: 0.1402 - accuracy: 0.9499 - val_loss: 0.1235 - val_accuracy: 0.9543\n",
            "Epoch 26/100\n",
            "80/80 [==============================] - 1s 17ms/step - loss: 0.1400 - accuracy: 0.9487 - val_loss: 0.1295 - val_accuracy: 0.9401\n",
            "Epoch 27/100\n",
            "80/80 [==============================] - 1s 18ms/step - loss: 0.1484 - accuracy: 0.9416 - val_loss: 0.1304 - val_accuracy: 0.9464\n",
            "Epoch 28/100\n",
            "80/80 [==============================] - 1s 12ms/step - loss: 0.1404 - accuracy: 0.9475 - val_loss: 0.1317 - val_accuracy: 0.9432\n",
            "Epoch 29/100\n",
            "80/80 [==============================] - 1s 11ms/step - loss: 0.1287 - accuracy: 0.9511 - val_loss: 0.1301 - val_accuracy: 0.9574\n",
            "Epoch 30/100\n",
            "80/80 [==============================] - 1s 11ms/step - loss: 0.1321 - accuracy: 0.9515 - val_loss: 0.1369 - val_accuracy: 0.9401\n",
            "Epoch 31/100\n",
            "80/80 [==============================] - 1s 11ms/step - loss: 0.1286 - accuracy: 0.9511 - val_loss: 0.1535 - val_accuracy: 0.9464\n",
            "Epoch 32/100\n",
            "80/80 [==============================] - 1s 11ms/step - loss: 0.1308 - accuracy: 0.9526 - val_loss: 0.1105 - val_accuracy: 0.9543\n",
            "Epoch 33/100\n",
            "80/80 [==============================] - 1s 11ms/step - loss: 0.1219 - accuracy: 0.9534 - val_loss: 0.1299 - val_accuracy: 0.9527\n",
            "Epoch 34/100\n",
            "80/80 [==============================] - 1s 11ms/step - loss: 0.1173 - accuracy: 0.9578 - val_loss: 0.1306 - val_accuracy: 0.9574\n",
            "Epoch 35/100\n",
            "80/80 [==============================] - 1s 11ms/step - loss: 0.1167 - accuracy: 0.9550 - val_loss: 0.1467 - val_accuracy: 0.9527\n",
            "Epoch 36/100\n",
            "80/80 [==============================] - 1s 11ms/step - loss: 0.1145 - accuracy: 0.9582 - val_loss: 0.1431 - val_accuracy: 0.9527\n",
            "Epoch 37/100\n",
            "80/80 [==============================] - 1s 11ms/step - loss: 0.1114 - accuracy: 0.9601 - val_loss: 0.1560 - val_accuracy: 0.9385\n",
            "Epoch 38/100\n",
            "80/80 [==============================] - 1s 11ms/step - loss: 0.1167 - accuracy: 0.9574 - val_loss: 0.1135 - val_accuracy: 0.9621\n",
            "Epoch 39/100\n",
            "80/80 [==============================] - 1s 17ms/step - loss: 0.1080 - accuracy: 0.9594 - val_loss: 0.1107 - val_accuracy: 0.9653\n",
            "Epoch 40/100\n",
            "80/80 [==============================] - 2s 21ms/step - loss: 0.1052 - accuracy: 0.9609 - val_loss: 0.1302 - val_accuracy: 0.9511\n",
            "Epoch 41/100\n",
            "80/80 [==============================] - 1s 12ms/step - loss: 0.1071 - accuracy: 0.9665 - val_loss: 0.1107 - val_accuracy: 0.9653\n",
            "Epoch 42/100\n",
            "80/80 [==============================] - 1s 11ms/step - loss: 0.1030 - accuracy: 0.9625 - val_loss: 0.1111 - val_accuracy: 0.9606\n",
            "RNN 모델의 총 학습 시간: 46.43220114707947 초\n"
          ]
        }
      ]
    },
    {
      "cell_type": "code",
      "source": [
        "# 모델 평가\n",
        "print(\"RNN model: \")\n",
        "rnn_model.evaluate(X_test,  y_test, verbose=2)"
      ],
      "metadata": {
        "id": "RFdKGEmwEsyj",
        "colab": {
          "base_uri": "https://localhost:8080/"
        },
        "outputId": "1016a22f-bbea-486d-fa0f-61a91d3871d1"
      },
      "execution_count": null,
      "outputs": [
        {
          "output_type": "stream",
          "name": "stdout",
          "text": [
            "RNN model: \n",
            "20/20 - 0s - loss: 0.1105 - accuracy: 0.9543 - 93ms/epoch - 5ms/step\n"
          ]
        },
        {
          "output_type": "execute_result",
          "data": {
            "text/plain": [
              "[0.11045819520950317, 0.9542586803436279]"
            ]
          },
          "metadata": {},
          "execution_count": 82
        }
      ]
    },
    {
      "cell_type": "markdown",
      "source": [
        "## MLP"
      ],
      "metadata": {
        "id": "iX07ax-etwNH"
      }
    },
    {
      "cell_type": "code",
      "source": [
        "# MLP 모델 정의\n",
        "mlp_model = tf.keras.Sequential([\n",
        "    tf.keras.layers.Dense(256, activation='relu', input_shape=(X_train.shape[1],)),\n",
        "    tf.keras.layers.Dense(128, activation='relu'),\n",
        "    tf.keras.layers.Dropout(0.2),\n",
        "    tf.keras.layers.Dense(32, activation='relu'),\n",
        "    tf.keras.layers.Dense(64, activation='relu'),\n",
        "    tf.keras.layers.Dropout(0.5),\n",
        "    tf.keras.layers.Dense(32, activation='relu'),\n",
        "    tf.keras.layers.Dense(1, activation='sigmoid')\n",
        "])\n",
        "\n",
        "# learning rate 조절\n",
        "optimizer = tf.keras.optimizers.Adam(learning_rate=0.001) # 기본 learning rate: 0.001\n",
        "\n",
        "# 모델 컴파일\n",
        "mlp_model.compile(optimizer=optimizer,\n",
        "              loss='binary_crossentropy',\n",
        "              metrics=['accuracy'])"
      ],
      "metadata": {
        "id": "OE5jZb3Ety_2"
      },
      "execution_count": null,
      "outputs": []
    },
    {
      "cell_type": "code",
      "source": [
        "# 모델의 구조 요약 및 출력\n",
        "mlp_model.summary()"
      ],
      "metadata": {
        "colab": {
          "base_uri": "https://localhost:8080/"
        },
        "id": "HrEdmzS8t6Ca",
        "outputId": "1dcb63f6-6ece-4c7f-c902-fe045493455e"
      },
      "execution_count": null,
      "outputs": [
        {
          "output_type": "stream",
          "name": "stdout",
          "text": [
            "Model: \"sequential_17\"\n",
            "_________________________________________________________________\n",
            " Layer (type)                Output Shape              Param #   \n",
            "=================================================================\n",
            " dense_54 (Dense)            (None, 256)               5376      \n",
            "                                                                 \n",
            " dense_55 (Dense)            (None, 128)               32896     \n",
            "                                                                 \n",
            " dropout_16 (Dropout)        (None, 128)               0         \n",
            "                                                                 \n",
            " dense_56 (Dense)            (None, 32)                4128      \n",
            "                                                                 \n",
            " dense_57 (Dense)            (None, 64)                2112      \n",
            "                                                                 \n",
            " dropout_17 (Dropout)        (None, 64)                0         \n",
            "                                                                 \n",
            " dense_58 (Dense)            (None, 32)                2080      \n",
            "                                                                 \n",
            " dense_59 (Dense)            (None, 1)                 33        \n",
            "                                                                 \n",
            "=================================================================\n",
            "Total params: 46625 (182.13 KB)\n",
            "Trainable params: 46625 (182.13 KB)\n",
            "Non-trainable params: 0 (0.00 Byte)\n",
            "_________________________________________________________________\n"
          ]
        }
      ]
    },
    {
      "cell_type": "code",
      "source": [
        "# 콜백 함수 정의 및 모델 학습\n",
        "early_stopping = EarlyStopping(monitor='val_loss', patience=20, restore_best_weights=True)\n",
        "\n",
        "start_time = time.time()\n",
        "\n",
        "mlp_model.fit(X_train, y_train, epochs=200, validation_data=(X_test, y_test), batch_size=64, shuffle=True, callbacks=[early_stopping])\n",
        "\n",
        "end_time = time.time()\n",
        "training_time = end_time - start_time\n",
        "print(\"MLP 모델의 총 학습 시간:\", training_time, \"초\")"
      ],
      "metadata": {
        "colab": {
          "base_uri": "https://localhost:8080/"
        },
        "id": "laVzlt8At7Kg",
        "outputId": "1f2ac3a7-45bd-46c4-8ba9-629685fa0719"
      },
      "execution_count": null,
      "outputs": [
        {
          "output_type": "stream",
          "name": "stdout",
          "text": [
            "Epoch 1/200\n",
            "40/40 [==============================] - 2s 9ms/step - loss: 0.3146 - accuracy: 0.8911 - val_loss: 0.0629 - val_accuracy: 0.9795\n",
            "Epoch 2/200\n",
            "40/40 [==============================] - 0s 4ms/step - loss: 0.0990 - accuracy: 0.9704 - val_loss: 0.0697 - val_accuracy: 0.9748\n",
            "Epoch 3/200\n",
            "40/40 [==============================] - 0s 4ms/step - loss: 0.0720 - accuracy: 0.9751 - val_loss: 0.0632 - val_accuracy: 0.9795\n",
            "Epoch 4/200\n",
            "40/40 [==============================] - 0s 4ms/step - loss: 0.0674 - accuracy: 0.9803 - val_loss: 0.0662 - val_accuracy: 0.9779\n",
            "Epoch 5/200\n",
            "40/40 [==============================] - 0s 4ms/step - loss: 0.0608 - accuracy: 0.9799 - val_loss: 0.0593 - val_accuracy: 0.9826\n",
            "Epoch 6/200\n",
            "40/40 [==============================] - 0s 4ms/step - loss: 0.0557 - accuracy: 0.9815 - val_loss: 0.0692 - val_accuracy: 0.9748\n",
            "Epoch 7/200\n",
            "40/40 [==============================] - 0s 5ms/step - loss: 0.0489 - accuracy: 0.9854 - val_loss: 0.0776 - val_accuracy: 0.9700\n",
            "Epoch 8/200\n",
            "40/40 [==============================] - 0s 4ms/step - loss: 0.0529 - accuracy: 0.9834 - val_loss: 0.0650 - val_accuracy: 0.9716\n",
            "Epoch 9/200\n",
            "40/40 [==============================] - 0s 4ms/step - loss: 0.0426 - accuracy: 0.9846 - val_loss: 0.0590 - val_accuracy: 0.9763\n",
            "Epoch 10/200\n",
            "40/40 [==============================] - 0s 4ms/step - loss: 0.0396 - accuracy: 0.9862 - val_loss: 0.0604 - val_accuracy: 0.9811\n",
            "Epoch 11/200\n",
            "40/40 [==============================] - 0s 4ms/step - loss: 0.0428 - accuracy: 0.9846 - val_loss: 0.0572 - val_accuracy: 0.9811\n",
            "Epoch 12/200\n",
            "40/40 [==============================] - 0s 4ms/step - loss: 0.0442 - accuracy: 0.9834 - val_loss: 0.0647 - val_accuracy: 0.9795\n",
            "Epoch 13/200\n",
            "40/40 [==============================] - 0s 4ms/step - loss: 0.0481 - accuracy: 0.9846 - val_loss: 0.0579 - val_accuracy: 0.9795\n",
            "Epoch 14/200\n",
            "40/40 [==============================] - 0s 4ms/step - loss: 0.0414 - accuracy: 0.9854 - val_loss: 0.0841 - val_accuracy: 0.9716\n",
            "Epoch 15/200\n",
            "40/40 [==============================] - 0s 4ms/step - loss: 0.0338 - accuracy: 0.9854 - val_loss: 0.0682 - val_accuracy: 0.9700\n",
            "Epoch 16/200\n",
            "40/40 [==============================] - 0s 4ms/step - loss: 0.0384 - accuracy: 0.9854 - val_loss: 0.0852 - val_accuracy: 0.9700\n",
            "Epoch 17/200\n",
            "40/40 [==============================] - 0s 4ms/step - loss: 0.0316 - accuracy: 0.9862 - val_loss: 0.0619 - val_accuracy: 0.9811\n",
            "Epoch 18/200\n",
            "40/40 [==============================] - 0s 4ms/step - loss: 0.0281 - accuracy: 0.9890 - val_loss: 0.0690 - val_accuracy: 0.9748\n",
            "Epoch 19/200\n",
            "40/40 [==============================] - 0s 4ms/step - loss: 0.0309 - accuracy: 0.9882 - val_loss: 0.0859 - val_accuracy: 0.9748\n",
            "Epoch 20/200\n",
            "40/40 [==============================] - 0s 4ms/step - loss: 0.0319 - accuracy: 0.9854 - val_loss: 0.0740 - val_accuracy: 0.9748\n",
            "Epoch 21/200\n",
            "40/40 [==============================] - 0s 4ms/step - loss: 0.0325 - accuracy: 0.9866 - val_loss: 0.0731 - val_accuracy: 0.9826\n",
            "Epoch 22/200\n",
            "40/40 [==============================] - 0s 4ms/step - loss: 0.0304 - accuracy: 0.9893 - val_loss: 0.0716 - val_accuracy: 0.9795\n",
            "Epoch 23/200\n",
            "40/40 [==============================] - 0s 4ms/step - loss: 0.0236 - accuracy: 0.9905 - val_loss: 0.0687 - val_accuracy: 0.9842\n",
            "Epoch 24/200\n",
            "40/40 [==============================] - 0s 4ms/step - loss: 0.0315 - accuracy: 0.9870 - val_loss: 0.0730 - val_accuracy: 0.9795\n",
            "Epoch 25/200\n",
            "40/40 [==============================] - 0s 4ms/step - loss: 0.0274 - accuracy: 0.9893 - val_loss: 0.0567 - val_accuracy: 0.9811\n",
            "Epoch 26/200\n",
            "40/40 [==============================] - 0s 4ms/step - loss: 0.0210 - accuracy: 0.9909 - val_loss: 0.0728 - val_accuracy: 0.9795\n",
            "Epoch 27/200\n",
            "40/40 [==============================] - 0s 4ms/step - loss: 0.0163 - accuracy: 0.9941 - val_loss: 0.0987 - val_accuracy: 0.9732\n",
            "Epoch 28/200\n",
            "40/40 [==============================] - 0s 4ms/step - loss: 0.0191 - accuracy: 0.9929 - val_loss: 0.0821 - val_accuracy: 0.9763\n",
            "Epoch 29/200\n",
            "40/40 [==============================] - 0s 4ms/step - loss: 0.0232 - accuracy: 0.9905 - val_loss: 0.0814 - val_accuracy: 0.9795\n",
            "Epoch 30/200\n",
            "40/40 [==============================] - 0s 4ms/step - loss: 0.0242 - accuracy: 0.9901 - val_loss: 0.0814 - val_accuracy: 0.9795\n",
            "Epoch 31/200\n",
            "40/40 [==============================] - 0s 4ms/step - loss: 0.0165 - accuracy: 0.9941 - val_loss: 0.0880 - val_accuracy: 0.9779\n",
            "Epoch 32/200\n",
            "40/40 [==============================] - 0s 4ms/step - loss: 0.0178 - accuracy: 0.9921 - val_loss: 0.1301 - val_accuracy: 0.9669\n",
            "Epoch 33/200\n",
            "40/40 [==============================] - 0s 4ms/step - loss: 0.0148 - accuracy: 0.9941 - val_loss: 0.1050 - val_accuracy: 0.9763\n",
            "Epoch 34/200\n",
            "40/40 [==============================] - 0s 4ms/step - loss: 0.0366 - accuracy: 0.9901 - val_loss: 0.0858 - val_accuracy: 0.9763\n",
            "Epoch 35/200\n",
            "40/40 [==============================] - 0s 4ms/step - loss: 0.0231 - accuracy: 0.9905 - val_loss: 0.0769 - val_accuracy: 0.9811\n",
            "Epoch 36/200\n",
            "40/40 [==============================] - 0s 5ms/step - loss: 0.0163 - accuracy: 0.9941 - val_loss: 0.0762 - val_accuracy: 0.9826\n",
            "Epoch 37/200\n",
            "40/40 [==============================] - 0s 7ms/step - loss: 0.0156 - accuracy: 0.9949 - val_loss: 0.1001 - val_accuracy: 0.9779\n",
            "Epoch 38/200\n",
            "40/40 [==============================] - 0s 7ms/step - loss: 0.0209 - accuracy: 0.9909 - val_loss: 0.0834 - val_accuracy: 0.9779\n",
            "Epoch 39/200\n",
            "40/40 [==============================] - 0s 6ms/step - loss: 0.0171 - accuracy: 0.9953 - val_loss: 0.0896 - val_accuracy: 0.9763\n",
            "Epoch 40/200\n",
            "40/40 [==============================] - 0s 7ms/step - loss: 0.0129 - accuracy: 0.9945 - val_loss: 0.0829 - val_accuracy: 0.9842\n",
            "Epoch 41/200\n",
            "40/40 [==============================] - 0s 6ms/step - loss: 0.0144 - accuracy: 0.9937 - val_loss: 0.0881 - val_accuracy: 0.9826\n",
            "Epoch 42/200\n",
            "40/40 [==============================] - 0s 8ms/step - loss: 0.0174 - accuracy: 0.9929 - val_loss: 0.1058 - val_accuracy: 0.9795\n",
            "Epoch 43/200\n",
            "40/40 [==============================] - 0s 7ms/step - loss: 0.0203 - accuracy: 0.9929 - val_loss: 0.0810 - val_accuracy: 0.9826\n",
            "Epoch 44/200\n",
            "40/40 [==============================] - 0s 8ms/step - loss: 0.0130 - accuracy: 0.9949 - val_loss: 0.0775 - val_accuracy: 0.9811\n",
            "Epoch 45/200\n",
            "40/40 [==============================] - 0s 8ms/step - loss: 0.0104 - accuracy: 0.9964 - val_loss: 0.0956 - val_accuracy: 0.9795\n",
            "MLP 모델의 총 학습 시간: 10.593863010406494 초\n"
          ]
        }
      ]
    },
    {
      "cell_type": "code",
      "source": [
        "# 모델 평가\n",
        "print(\"MLP model: \")\n",
        "mlp_model.evaluate(X_test,  y_test, verbose=2)"
      ],
      "metadata": {
        "colab": {
          "base_uri": "https://localhost:8080/"
        },
        "id": "pzSqBJx7t8Je",
        "outputId": "61fabff3-7f1c-4ec0-b00e-a5e90ac5c405"
      },
      "execution_count": null,
      "outputs": [
        {
          "output_type": "stream",
          "name": "stdout",
          "text": [
            "MLP model: \n",
            "20/20 - 0s - loss: 0.0567 - accuracy: 0.9811 - 44ms/epoch - 2ms/step\n"
          ]
        },
        {
          "output_type": "execute_result",
          "data": {
            "text/plain": [
              "[0.05671234056353569, 0.9810725450515747]"
            ]
          },
          "metadata": {},
          "execution_count": 86
        }
      ]
    },
    {
      "cell_type": "code",
      "source": [],
      "metadata": {
        "id": "57MS48Zk0qxC"
      },
      "execution_count": null,
      "outputs": []
    }
  ]
}